{
  "cells": [
    {
      "cell_type": "markdown",
      "id": "cell-0",
      "metadata": {
        "id": "cell-0"
      },
      "source": [
        "# TRABAJO PRÁCTICO INTEGRADOR N°1\n",
        "\n",
        "## Sistema de Análisis de Documentos Digitalizados\n",
        "\n",
        "---\n",
        "\n",
        "**Información del Estudiante:**\n",
        "- **Nombre y Apellido:** Jordi Galmán\n",
        "- **Fecha de Entrega:** 24 de Septiembre de 2025\n",
        "- **Materia:** Procesamiento de Imágenes - IFTS24\n",
        "\n",
        "---\n",
        "\n",
        "### Objetivo\n",
        "\n",
        "Desarrollar un sistema básico de análisis automático de documentos digitalizados que integre las técnicas de procesamiento de imágenes estudiadas en el curso.\n",
        "\n",
        "### Estructura del Trabajo\n",
        "\n",
        "| Parte | Descripción | Peso |\n",
        "|-------|-------------|------|\n",
        "| **1** | Fundamentos Teóricos | 20% |\n",
        "| **2** | Setup del Entorno | 15% |\n",
        "| **3** | Análisis de Imágenes | 35% |\n",
        "| **4** | Preprocessing Básico | 30% |\n",
        "\n",
        "**Dataset requerido:** 3 imágenes de documentos con diferentes características (buena calidad, rotada, con problemas de iluminación)\n",
        "\n",
        "---"
      ]
    },
    {
      "cell_type": "markdown",
      "id": "cell-1",
      "metadata": {
        "id": "cell-1"
      },
      "source": [
        "# PARTE 1: Fundamentos Teóricos\n",
        "\n",
        "## ¿Por qué Cuadernos Interactivos para IA y Ciencias de Datos?\n",
        "\n",
        "### Diferencias Metodológicas Fundamentales\n",
        "\n",
        "El trabajo en inteligencia artificial y ciencias de datos requiere un enfoque metodológico diferente al desarrollo de software tradicional. Mientras que la programación tradicional sigue un flujo lineal y predecible, el trabajo con datos es inherentemente iterativo y exploratorio.\n",
        "\n",
        "**Programación Tradicional:**\n",
        "```\n",
        "Requisitos → Diseño → Implementación → Testing → Producto\n",
        "```\n",
        "\n",
        "**Investigación en IA/Datos:**\n",
        "```\n",
        "Hipótesis ⟷ Experimento ⟷ Análisis ⟷ Refinamiento ⟷ Nueva Hipótesis\n",
        "```\n",
        "\n",
        "### Ventajas de los Cuadernos Interactivos\n",
        "\n",
        "1. **Narrativa Científica:** Permiten documentar el proceso de pensamiento, no solo el resultado final\n",
        "2. **Iteración Rápida:** Ejecutar y modificar secciones específicas sin reejecutar todo el programa\n",
        "3. **Visualización Inmediata:** Ver resultados inmediatamente después de cada paso\n",
        "4. **Comunicación Efectiva:** Stakeholders no técnicos pueden seguir el proceso y entender decisiones\n",
        "5. **Reproducibilidad:** Otros investigadores pueden replicar exactamente los experimentos\n",
        "\n",
        "### Casos de Uso en la Industria\n",
        "\n",
        "- **Google Research:** Publica papers con cuadernos que permiten reproducir experimentos\n",
        "- **Netflix:** Usa cuadernos para análisis de datos de usuarios y recomendaciones\n",
        "- **Uber:** Análisis de patrones de viajes y optimización de rutas\n",
        "- **Kaggle:** Plataforma completa basada en cuadernos para competencias de machine learning\n",
        "\n",
        "### Cuándo Usar Cada Herramienta\n",
        "\n",
        "**Usar Cuadernos para:**\n",
        "- Análisis exploratorio de datos\n",
        "- Experimentación y prototipado\n",
        "- Comunicación de resultados\n",
        "- Educación y documentación\n",
        "\n",
        "**Usar Scripts para:**\n",
        "- Sistemas en producción\n",
        "- Automatización de tareas repetitivas\n",
        "- APIs y servicios web\n",
        "- Pipelines de datos automatizados\n",
        "\n",
        "En este trabajo práctico, usaremos cuadernos porque estamos en la fase de investigación y experimentación, donde necesitamos entender los datos, probar diferentes enfoques y documentar nuestros hallazgos.\n",
        "\n",
        "---"
      ]
    },
    {
      "cell_type": "markdown",
      "id": "cell-2",
      "metadata": {
        "id": "cell-2"
      },
      "source": [
        "# PARTE 2: Setup del Entorno\n",
        "\n",
        "En esta sección vas a configurar tu entorno de trabajo de manera profesional. Un setup bien hecho te ahorra tiempo y errores durante todo el proyecto.\n",
        "\n",
        "**Material de consulta:** `Utilidades_y_Plantillas.ipynb`\n",
        "\n",
        "## 2.1 Importaciones Básicas\n",
        "\n",
        "Importá las librerías necesarias para procesamiento de imágenes y visualización:"
      ]
    },
    {
      "cell_type": "code",
      "execution_count": 23,
      "id": "cell-3",
      "metadata": {
        "id": "cell-3"
      },
      "outputs": [],
      "source": [
        "# Importación de las librerías necesarias para el laboratorio\n",
        "import numpy as np\n",
        "import cv2\n",
        "from cv2 import imread\n",
        "import matplotlib.pyplot as plt\n",
        "import skimage as ski\n",
        "from skimage import filters, feature, exposure\n",
        "from PIL import Image\n",
        "import urllib.request\n",
        "from PIL import Image  # Importar la clase Image\n",
        "import os\n",
        "from urllib.parse import urlparse"
      ]
    },
    {
      "cell_type": "markdown",
      "id": "cell-4",
      "metadata": {
        "id": "cell-4"
      },
      "source": [
        "## 2.2 Funciones Utilitarias\n",
        "\n",
        "Implementá una función básica para cargar y mostrar información de imágenes:"
      ]
    },
    {
      "cell_type": "code",
      "source": [
        "def descargar_imagen(url_imagen):\n",
        "    # Ruta base fija para la descarga\n",
        "    DIRECTORIO_DESTINO = \"/content/dataset\"\n",
        "\n",
        "    try:\n",
        "        print(f\"\\n--- INICIANDO DESCARGA ---\")\n",
        "        print(f\"URL de origen: {url_imagen}\")\n",
        "        print(f\"Directorio de destino: {DIRECTORIO_DESTINO}\")\n",
        "\n",
        "        # Asegurarse de que el directorio exista. Si no existe, lo crea.\n",
        "        os.makedirs(DIRECTORIO_DESTINO, exist_ok=True)\n",
        "\n",
        "        # Definir las extensiones de imagen permitidas\n",
        "        extensiones_validas = {\n",
        "            1: \".jpg\",\n",
        "            2: \".png\",\n",
        "            3: \".tiff\",\n",
        "            4: \".pdf\"\n",
        "        }\n",
        "\n",
        "        # 1. Pedir al usuario que ingrese solo el nombre base\n",
        "        nombre_base = input(\"➡️ 1. Por favor, ingresa el nombre para el archivo (sin extensión): \")\n",
        "\n",
        "        if not nombre_base:\n",
        "            print(\"❌ Nombre de archivo no puede estar vacío. Abortando descarga.\")\n",
        "            return\n",
        "\n",
        "        # 2. Mostrar el menú de selección de formato\n",
        "        extension_seleccionada = None\n",
        "        while extension_seleccionada is None:\n",
        "            print(\"\\n➡️ 2. Selecciona el formato de destino:\")\n",
        "            for numero, extension in extensiones_validas.items():\n",
        "                print(f\"   [{numero}] -> {extension.upper()}\")\n",
        "\n",
        "            seleccion = input(\"   Ingresa el número de tu opción: \")\n",
        "\n",
        "            try:\n",
        "                opcion = int(seleccion)\n",
        "                if opcion in extensiones_validas:\n",
        "                    extension_seleccionada = extensiones_validas[opcion]\n",
        "                else:\n",
        "                    print(\"⚠️ Opción inválida. Intenta de nuevo.\")\n",
        "            except ValueError:\n",
        "                print(\"⚠️ Entrada inválida. Debes ingresar un número.\")\n",
        "\n",
        "        # 3. Combinar la RUTA base, el nombre base y la extensión elegida\n",
        "        nombre_archivo_completo = nombre_base + extension_seleccionada\n",
        "\n",
        "        # Construir la ruta de destino completa usando os.path.join para compatibilidad de SO\n",
        "        ruta_destino_completa = os.path.join(DIRECTORIO_DESTINO, nombre_archivo_completo)\n",
        "\n",
        "        print(f\"\\nGuardando imagen en: {ruta_destino_completa}\")\n",
        "\n",
        "        # 4. Descargar la imagen\n",
        "        urllib.request.urlretrieve(url_imagen, ruta_destino_completa)\n",
        "\n",
        "        # 5. Mensaje de éxito\n",
        "        print(f\"\\n✅ ¡Descarga completada con éxito!\")\n",
        "        print(f\"El archivo se guardó en: {os.path.abspath(ruta_destino_completa)}\")\n",
        "\n",
        "    except Exception as e:\n",
        "        # Manejo de errores (incluye problemas de red, URL, o permisos del sistema)\n",
        "        print(f\"\\n❌ Ocurrió un error durante la descarga: {e}\")\n",
        "\n",
        "# Ejemplo de uso (debes ejecutar esto en un entorno donde exista la ruta, como Google Colab o Linux)\n",
        "# url_ejemplo = \"URL_DE_TU_IMAGEN_AQUI\"\n",
        "# descargar_imagen(url_ejemplo)"
      ],
      "metadata": {
        "id": "7lM7wIoNFaVY"
      },
      "id": "7lM7wIoNFaVY",
      "execution_count": 24,
      "outputs": []
    },
    {
      "cell_type": "code",
      "source": [
        "def cargar_imagen(ruta):\n",
        "    \"\"\"\n",
        "    Carga una imagen desde la ruta especificada y la convierte al modo RGB.\n",
        "\n",
        "    Args:\n",
        "        ruta (str): La ruta completa del archivo de imagen a cargar.\n",
        "\n",
        "    Returns:\n",
        "        PIL.Image.Image o None: La imagen cargada en formato RGB,\n",
        "                                o None si ocurre un error (ej: archivo no encontrado).\n",
        "    \"\"\"\n",
        "    try:\n",
        "        # 1. Cargar la imagen usando el método 'open' de Pillow\n",
        "        imagen = Image.open(ruta)\n",
        "\n",
        "        # 2. Convertir la imagen al modo de color 'RGB'\n",
        "        # Esto maneja imágenes en escala de grises, CMYK, o con canal Alpha (RGBA)\n",
        "        # y las fuerza al estándar RGB (3 canales).\n",
        "        imagen_rgb = imagen.convert('RGB')\n",
        "\n",
        "        print(f\"✅ Imagen cargada y convertida a RGB desde: {ruta}\")\n",
        "        return imagen_rgb\n",
        "\n",
        "    except FileNotFoundError:\n",
        "        print(f\"❌ ERROR: Archivo no encontrado en la ruta: {ruta}\")\n",
        "        return None\n",
        "    except Exception as e:\n",
        "        # Captura cualquier otro error (ej: formato de imagen corrupto o no soportado)\n",
        "        print(f\"❌ ERROR al cargar la imagen desde {ruta}: {e}\")\n",
        "        return None\n",
        "\n",
        "# ----------------------------------------------------------------------\n",
        "## EJEMPLO DE USO:\n",
        "\n",
        "# Para que este ejemplo funcione, debes:\n",
        "# 1. Asegurarte de tener la librería Pillow instalada: pip install Pillow\n",
        "# 2. Tener una imagen de prueba (ej: \"mi_foto.jpg\") en la misma carpeta o proporcionar la ruta correcta.\n",
        "\n",
        "# --- Preparación para la prueba ---\n",
        "\n",
        "# Paso 1: Crea una imagen de prueba localmente (usando el gradiente de la respuesta anterior)\n",
        "# Necesitas la función auxiliar para generar una imagen si no tienes una a mano.\n"
      ],
      "metadata": {
        "id": "FbkXm1lRGW5y"
      },
      "id": "FbkXm1lRGW5y",
      "execution_count": 25,
      "outputs": []
    },
    {
      "cell_type": "markdown",
      "id": "cell-6",
      "metadata": {
        "id": "cell-6"
      },
      "source": [
        "## 2.3 Verificación del Setup\n",
        "\n",
        "Probá que todo funciona creando una imagen sintética simple:"
      ]
    },
    {
      "cell_type": "code",
      "execution_count": 32,
      "id": "cell-7",
      "metadata": {
        "id": "cell-7"
      },
      "outputs": [],
      "source": [
        "def crear_imagen_de_prueba(nombre_archivo=\"imagen_prueba.png\"):\n",
        "    # Crea una imagen 100x100 de color rojo (para tener un archivo válido)\n",
        "    img = Image.new('RGB', (100, 100), color = 'red')\n",
        "    img.save(nombre_archivo)\n",
        "    return nombre_archivo\n",
        "\n",
        "# Creamos una imagen de prueba para cargar\n",
        "ruta_de_prueba = crear_imagen_de_prueba()\n"
      ]
    },
    {
      "cell_type": "code",
      "source": [
        "cargar_imagen('/content/imagen_prueba.png')\n",
        "\n",
        "imagen_cargada = cargar_imagen(ruta_de_prueba)\n",
        "\n",
        "if imagen_cargada:\n",
        "    print(f\"\\nTipo de objeto devuelto: {type(imagen_cargada)}\")\n",
        "    print(f\"Modo de color de la imagen: {imagen_cargada.mode}\")\n",
        "    print(f\"Tamaño de la imagen: {imagen_cargada.size}\")\n",
        "    # Muestra la imagen usando display() para entornos como Google Colab\n",
        "    print(\"\\nMostrando la imagen cargada:\") # Added print for clarity\n",
        "    display(imagen_cargada) # Changed show() to display()\n",
        "else:\n",
        "    print(\"❌ No se pudo cargar la imagen.\")"
      ],
      "metadata": {
        "colab": {
          "base_uri": "https://localhost:8080/",
          "height": 256
        },
        "id": "Iy8oMx_JIezv",
        "outputId": "1a6b4d55-aa46-4089-986a-88bdb957eae6"
      },
      "id": "Iy8oMx_JIezv",
      "execution_count": 35,
      "outputs": [
        {
          "output_type": "stream",
          "name": "stdout",
          "text": [
            "✅ Imagen cargada y convertida a RGB desde: /content/imagen_prueba.png\n",
            "✅ Imagen cargada y convertida a RGB desde: imagen_prueba.png\n",
            "\n",
            "Tipo de objeto devuelto: <class 'PIL.Image.Image'>\n",
            "Modo de color de la imagen: RGB\n",
            "Tamaño de la imagen: (100, 100)\n",
            "\n",
            "Mostrando la imagen cargada:\n"
          ]
        },
        {
          "output_type": "display_data",
          "data": {
            "text/plain": [
              "<PIL.Image.Image image mode=RGB size=100x100>"
            ],
            "image/png": "[encoded data removed]",
            "image/jpeg": "[encoded data removed]"
          },
          "metadata": {}
        }
      ]
    },
    {
      "cell_type": "code",
      "source": [
        "# --- Llamada a la función ---\n",
        "\n",
        "# 1. Llamada exitosa\n"
      ],
      "metadata": {
        "colab": {
          "base_uri": "https://localhost:8080/"
        },
        "id": "ctREE-geIXsh",
        "outputId": "cd0a1890-3a66-4adb-df76-7bc74789e030"
      },
      "id": "ctREE-geIXsh",
      "execution_count": 29,
      "outputs": [
        {
          "output_type": "stream",
          "name": "stdout",
          "text": [
            "✅ Imagen cargada y convertida a RGB desde: imagen_prueba.png\n",
            "\n",
            "Tipo de objeto devuelto: <class 'PIL.Image.Image'>\n",
            "Modo de color de la imagen: RGB\n",
            "Tamaño de la imagen: (100, 100)\n",
            "❌ ERROR: Archivo no encontrado en la ruta: ruta/que/no/existe.jpg\n",
            "\n",
            "Resultado de llamada fallida: None\n"
          ]
        }
      ]
    },
    {
      "cell_type": "markdown",
      "id": "cell-8",
      "metadata": {
        "id": "cell-8"
      },
      "source": [
        "---\n",
        "\n",
        "# PARTE 3: Análisis de Tu Dataset\n",
        "\n",
        "Ahora vas a trabajar con tu dataset de 3 documentos. Esta parte es clave para entender qué problemas tenés que resolver.\n",
        "\n",
        "**Preparación del Dataset:**\n",
        "- Creá una carpeta llamada `dataset/` en la misma ubicación que este notebook\n",
        "- Incluí exactamente 3 imágenes de documentos:\n",
        "  1. Una de buena calidad (bien iluminada, recta)\n",
        "  2. Una rotada o inclinada\n",
        "  3. Una con problemas (oscura, borrosa, o con sombras)\n",
        "\n",
        "## 3.1 Carga de las Imágenes\n",
        "\n",
        "**Material de consulta:** `002/TEO/LeerImagenColor.ipynb`"
      ]
    },
    {
      "cell_type": "code",
      "source": [
        "url_rotada = 'https://fotora.com.ar/wp-content/uploads/2018/04/9-Norman-Franco-Sanchez-Alvarez.jpg'\n",
        "url_borrosa = 'https://images.unsplash.com/photo-1635963422426-f802fb6d7240?q=80&w=1171&auto=format&fit=crop&ixlib=rb-4.1.0&ixid=M3wxMjA3fDB8MHxwaG90by1wYWdlfHx8fGVufDB8fHx8fA%3D%3D'\n",
        "url_buena = 'https://live.staticflickr.com/4/3095/2899442765_72740be1fb_z.jpg'"
      ],
      "metadata": {
        "id": "P8wll9xWEb-y"
      },
      "id": "P8wll9xWEb-y",
      "execution_count": null,
      "outputs": []
    },
    {
      "cell_type": "code",
      "execution_count": null,
      "id": "cell-9",
      "metadata": {
        "id": "cell-9"
      },
      "outputs": [],
      "source": [
        "# Define las rutas a tus 3 imágenes\n",
        "rutas_imagenes = [\n",
        "    \"dataset/imagen1.jpg\",  # Buena calidad\n",
        "    \"dataset/imagen2.jpg\",  # Rotada\n",
        "    \"dataset/imagen3.jpg\"   # Con problemas\n",
        "]\n",
        "\n",
        "# Carga las 3 imágenes usando tu función\n",
        "imagenes = []\n",
        "nombres = [\"Buena Calidad\", \"Rotada\", \"Con Problemas\"]\n",
        "\n",
        "# Tu código aquí\n"
      ]
    },
    {
      "cell_type": "markdown",
      "id": "cell-10",
      "metadata": {
        "id": "cell-10"
      },
      "source": [
        "## 3.2 Inspección Visual y Análisis\n",
        "\n",
        "**Material de consulta:** `002/Fundamentos_Imagen_Digital.ipynb`"
      ]
    },
    {
      "cell_type": "code",
      "execution_count": null,
      "id": "cell-11",
      "metadata": {
        "id": "cell-11"
      },
      "outputs": [],
      "source": [
        "# Mostra las 3 imágenes lado a lado con sus nombres\n",
        "# Usa subplots de matplotlib\n",
        "\n",
        "# Tu código aquí\n"
      ]
    },
    {
      "cell_type": "code",
      "execution_count": null,
      "id": "cell-12",
      "metadata": {
        "id": "cell-12"
      },
      "outputs": [],
      "source": [
        "# Para cada imagen, mostrá información básica y un histograma\n",
        "# Esto te ayuda a entender los problemas de cada una\n",
        "\n",
        "# Tu código aquí\n"
      ]
    },
    {
      "cell_type": "markdown",
      "id": "cell-13",
      "metadata": {
        "id": "cell-13"
      },
      "source": [
        "## 3.3 Identificación de Problemas\n",
        "\n",
        "Basándote en tu inspección visual, identificá los problemas principales de cada imagen:"
      ]
    },
    {
      "cell_type": "markdown",
      "id": "cell-14",
      "metadata": {
        "id": "cell-14"
      },
      "source": [
        "**Imagen 1 (Buena Calidad):**\n",
        "- Problemas identificados: [COMPLETAR]\n",
        "- Preprocessing necesario: [COMPLETAR]\n",
        "\n",
        "**Imagen 2 (Rotada):**\n",
        "- Problemas identificados: [COMPLETAR]\n",
        "- Preprocessing necesario: [COMPLETAR]\n",
        "\n",
        "**Imagen 3 (Con Problemas):**\n",
        "- Problemas identificados: [COMPLETAR]\n",
        "- Preprocessing necesario: [COMPLETAR]"
      ]
    },
    {
      "cell_type": "markdown",
      "id": "cell-15",
      "metadata": {
        "id": "cell-15"
      },
      "source": [
        "---\n",
        "\n",
        "# PARTE 4: Preprocessing Básico\n",
        "\n",
        "Ahora vas a aplicar técnicas de preprocessing para mejorar cada imagen. Trabajá con una imagen por vez.\n",
        "\n",
        "## 4.1 Segmentación Básica\n",
        "\n",
        "Separar el documento del fondo es el primer paso crítico.\n",
        "\n",
        "**Material de consulta:** `Segmentacion.ipynb` (especialmente las funciones de umbralización)"
      ]
    },
    {
      "cell_type": "code",
      "execution_count": null,
      "id": "cell-16",
      "metadata": {
        "id": "cell-16"
      },
      "outputs": [],
      "source": [
        "# Elegí UNA de tus imágenes para trabajar primero\n",
        "imagen_trabajo = imagenes[0]  # Cambiá el índice según necesites\n",
        "\n",
        "# Convertí a escala de grises\n",
        "# Tu código aquí\n"
      ]
    },
    {
      "cell_type": "code",
      "execution_count": null,
      "id": "cell-17",
      "metadata": {
        "id": "cell-17"
      },
      "outputs": [],
      "source": [
        "# Aplicá segmentación por umbralización\n",
        "# Probá diferentes valores hasta encontrar el mejor\n",
        "\n",
        "# Tu código aquí\n"
      ]
    },
    {
      "cell_type": "code",
      "execution_count": null,
      "id": "cell-18",
      "metadata": {
        "id": "cell-18"
      },
      "outputs": [],
      "source": [
        "# Mostrá el resultado: original, escala de grises, y máscara\n",
        "# Tu código aquí\n"
      ]
    },
    {
      "cell_type": "markdown",
      "id": "cell-19",
      "metadata": {
        "id": "cell-19"
      },
      "source": [
        "## 4.2 Mejora de Calidad\n",
        "\n",
        "**Material de consulta:** `Mejora_Imagen_Ecualizacion.ipynb`"
      ]
    },
    {
      "cell_type": "code",
      "execution_count": null,
      "id": "cell-20",
      "metadata": {
        "id": "cell-20"
      },
      "outputs": [],
      "source": [
        "# Si tu imagen tiene problemas de contraste, aplicá ecualización\n",
        "# Tu código aquí\n"
      ]
    },
    {
      "cell_type": "code",
      "execution_count": null,
      "id": "cell-21",
      "metadata": {
        "id": "cell-21"
      },
      "outputs": [],
      "source": [
        "# Si tu imagen está rotada, aplicá corrección básica\n",
        "# Material de consulta: Transformaciones_Geometricas.ipynb\n",
        "\n",
        "# Tu código aquí\n"
      ]
    },
    {
      "cell_type": "markdown",
      "id": "cell-22",
      "metadata": {
        "id": "cell-22"
      },
      "source": [
        "## 4.3 Comparación de Resultados"
      ]
    },
    {
      "cell_type": "code",
      "execution_count": null,
      "id": "cell-23",
      "metadata": {
        "id": "cell-23"
      },
      "outputs": [],
      "source": [
        "# Mostrá lado a lado: imagen original vs imagen procesada\n",
        "# Tu código aquí\n"
      ]
    },
    {
      "cell_type": "markdown",
      "id": "cell-24",
      "metadata": {
        "id": "cell-24"
      },
      "source": [
        "## 4.4 Aplicación a las Otras Imágenes\n",
        "\n",
        "Repetí el proceso para tus otras 2 imágenes, adaptando las técnicas según los problemas específicos de cada una:"
      ]
    },
    {
      "cell_type": "code",
      "execution_count": null,
      "id": "cell-25",
      "metadata": {
        "id": "cell-25"
      },
      "outputs": [],
      "source": [
        "# Procesamiento de la segunda imagen\n",
        "# Tu código aquí\n"
      ]
    },
    {
      "cell_type": "code",
      "execution_count": null,
      "id": "cell-26",
      "metadata": {
        "id": "cell-26"
      },
      "outputs": [],
      "source": [
        "# Procesamiento de la tercera imagen\n",
        "# Tu código aquí\n"
      ]
    },
    {
      "cell_type": "markdown",
      "id": "cell-27",
      "metadata": {
        "id": "cell-27"
      },
      "source": [
        "## 4.5 Resultados Finales"
      ]
    },
    {
      "cell_type": "code",
      "execution_count": null,
      "id": "cell-28",
      "metadata": {
        "id": "cell-28"
      },
      "outputs": [],
      "source": [
        "# Creá un grid mostrando las 3 imágenes originales y las 3 procesadas\n",
        "# Tu código aquí\n"
      ]
    },
    {
      "cell_type": "markdown",
      "id": "cell-29",
      "metadata": {
        "id": "cell-29"
      },
      "source": [
        "---\n",
        "\n",
        "# REFLEXIÓN FINAL\n",
        "\n",
        "## Análisis de Resultados\n",
        "\n",
        "**¿Qué técnica fue más efectiva para cada tipo de problema?**\n",
        "\n",
        "[COMPLETAR: Reflexioná sobre qué funcionó mejor para cada imagen]\n",
        "\n",
        "**¿Qué desafíos encontraste durante el procesamiento?**\n",
        "\n",
        "[COMPLETAR: Mencioná las dificultades técnicas que tuviste]\n",
        "\n",
        "**¿En qué casos los resultados no fueron óptimos y por qué?**\n",
        "\n",
        "[COMPLETAR: Sé crítico con tus resultados]\n",
        "\n",
        "## Aprendizaje Adquirido\n",
        "\n",
        "**¿Qué conceptos del curso fueron más útiles?**\n",
        "\n",
        "[COMPLETAR: Conectá con el material visto en clase]\n",
        "\n",
        "**¿Cómo podrías mejorar este sistema en futuras versiones?**\n",
        "\n",
        "[COMPLETAR: Pensá en extensiones posibles]\n",
        "\n",
        "---\n",
        "\n",
        "## Entregables\n",
        "\n",
        "1. Este notebook completamente ejecutado con resultados\n",
        "2. Carpeta `dataset/` con tus 3 imágenes\n",
        "3. Las reflexiones completadas\n",
        "\n",
        "**Fecha de entrega:** 24 de Septiembre, 23:59\n",
        "\n",
        "---"
      ]
    }
  ],
  "metadata": {
    "kernelspec": {
      "display_name": "Python 3",
      "language": "python",
      "name": "python3"
    },
    "language_info": {
      "codemirror_mode": {
        "name": "ipython",
        "version": 3
      },
      "file_extension": ".py",
      "mimetype": "text/x-python",
      "name": "python",
      "nbconvert_exporter": "python",
      "pygments_lexer": "ipython3",
      "version": "3.12.6"
    },
    "colab": {
      "provenance": []
    }
  },
  "nbformat": 4,
  "nbformat_minor": 5
}